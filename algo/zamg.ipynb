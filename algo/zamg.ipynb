{
 "cells": [
  {
   "cell_type": "code",
   "execution_count": 155,
   "metadata": {
    "collapsed": false
   },
   "outputs": [],
   "source": [
    "import urllib\n",
    "import csv\n",
    "from collections import defaultdict\n",
    "import datetime, time"
   ]
  },
  {
   "cell_type": "code",
   "execution_count": 7,
   "metadata": {
    "collapsed": false
   },
   "outputs": [],
   "source": [
    "url_pre = \"http://at-wetter.tk/api/v1/station/11035/\"\n",
    "url_post = \"/2016-04-23/400\""
   ]
  },
  {
   "cell_type": "code",
   "execution_count": 33,
   "metadata": {
    "collapsed": false
   },
   "outputs": [],
   "source": [
    "response = urllib.request.urlopen(url_pre + 't' + url_post)\n",
    "html = response.read()\n",
    "t = html.decode(\"utf-8\").split('\\n')"
   ]
  },
  {
   "cell_type": "code",
   "execution_count": 10,
   "metadata": {
    "collapsed": false
   },
   "outputs": [],
   "source": [
    "response = urllib.request.urlopen(url_pre + 'rf' + url_post)\n",
    "html = response.read()\n",
    "rf = html.decode(\"utf-8\").split('\\n')"
   ]
  },
  {
   "cell_type": "code",
   "execution_count": 77,
   "metadata": {
    "collapsed": true
   },
   "outputs": [],
   "source": [
    "response = urllib.request.urlopen(url_pre + 'ldred' + url_post)\n",
    "html = response.read()\n",
    "ldred = html.decode(\"utf-8\").split('\\n')"
   ]
  },
  {
   "cell_type": "code",
   "execution_count": 78,
   "metadata": {
    "collapsed": true
   },
   "outputs": [],
   "source": [
    "response = urllib.request.urlopen(url_pre + 'ldstat' + url_post)\n",
    "html = response.read()\n",
    "ldstat = html.decode(\"utf-8\").split('\\n')"
   ]
  },
  {
   "cell_type": "code",
   "execution_count": 79,
   "metadata": {
    "collapsed": true
   },
   "outputs": [],
   "source": [
    "response = urllib.request.urlopen(url_pre + 'regen' + url_post)\n",
    "html = response.read()\n",
    "regen = html.decode(\"utf-8\").split('\\n')"
   ]
  },
  {
   "cell_type": "code",
   "execution_count": 156,
   "metadata": {
    "collapsed": false
   },
   "outputs": [],
   "source": [
    "data_dict = {}\n",
    "data_list = []\n",
    "for i in range(len(t)-1):\n",
    "    t_split = t[i].split(';')\n",
    "    rf_split = rf[i].split(';')\n",
    "    ldred_split = ldred[i].split(';')\n",
    "    ldstat_split = ldstat[i].split(';')\n",
    "    regen_split = regen[i].split(';')\n",
    "    data_dict[t_split[7]] = ({\"date\": t_split[7], \"t\": t_split[5], \"rf\": rf_split[5], \"ldred\": ldred_split[5], \"ldstat\": ldstat_split[5], \"regen\": regen_split[5]})\n",
    "    data_list.append([str(time.mktime(datetime.datetime.strptime(t_split[7], \"'%Y-%m-%d %H:%M:%S'\").timetuple())), t_split[5], rf_split[5], ldred_split[5], ldstat_split[5], regen_split[5]])"
   ]
  },
  {
   "cell_type": "code",
   "execution_count": 74,
   "metadata": {
    "collapsed": false
   },
   "outputs": [
    {
     "data": {
      "text/plain": [
       "[\"'11035'\",\n",
       " \"'Wien/Hohe Warte'\",\n",
       " \"'203'\",\n",
       " \"'2015-03-19'\",\n",
       " \"'02:00'\",\n",
       " \"'2.6'\",\n",
       " \"'°C'\",\n",
       " \"'2015-03-19 02:15:01'\"]"
      ]
     },
     "execution_count": 74,
     "metadata": {},
     "output_type": "execute_result"
    }
   ],
   "source": [
    "t[2].split(\";\")"
   ]
  },
  {
   "cell_type": "code",
   "execution_count": 152,
   "metadata": {
    "collapsed": false
   },
   "outputs": [],
   "source": []
  },
  {
   "cell_type": "code",
   "execution_count": 158,
   "metadata": {
    "collapsed": false
   },
   "outputs": [],
   "source": [
    "with open('export.csv', 'w', newline='') as csvfile:\n",
    "    spamwriter = csv.writer(csvfile, delimiter=';',\n",
    "                            quotechar='\"', quoting=csv.QUOTE_MINIMAL)\n",
    "    for row in data_list:\n",
    "        spamwriter.writerow(row)"
   ]
  },
  {
   "cell_type": "code",
   "execution_count": 157,
   "metadata": {
    "collapsed": false
   },
   "outputs": [
    {
     "data": {
      "text/plain": [
       "[['1426724102.0', \"'3.6'\", \"'66'\", \"'1025.2'\", \"'999.3'\", \"null,'l/m²'\"],\n",
       " ['1426727701.0', \"'2.6'\", \"'69'\", \"'1024.9'\", \"'998.9'\", \"'0.0'\"],\n",
       " ['1426731304.0', \"'3.0'\", \"'67'\", \"'1025.1'\", \"'999.2'\", \"'0.0'\"],\n",
       " ['1426734901.0', \"'2.6'\", \"'68'\", \"'1025.2'\", \"'999.2'\", \"'0.0'\"]]"
      ]
     },
     "execution_count": 157,
     "metadata": {},
     "output_type": "execute_result"
    }
   ],
   "source": [
    "data_list[1:5]"
   ]
  },
  {
   "cell_type": "code",
   "execution_count": null,
   "metadata": {
    "collapsed": false
   },
   "outputs": [],
   "source": []
  },
  {
   "cell_type": "code",
   "execution_count": null,
   "metadata": {
    "collapsed": true
   },
   "outputs": [],
   "source": []
  }
 ],
 "metadata": {
  "kernelspec": {
   "display_name": "Python 3",
   "language": "python",
   "name": "python3"
  },
  "language_info": {
   "codemirror_mode": {
    "name": "ipython",
    "version": 3
   },
   "file_extension": ".py",
   "mimetype": "text/x-python",
   "name": "python",
   "nbconvert_exporter": "python",
   "pygments_lexer": "ipython3",
   "version": "3.5.0"
  }
 },
 "nbformat": 4,
 "nbformat_minor": 0
}
